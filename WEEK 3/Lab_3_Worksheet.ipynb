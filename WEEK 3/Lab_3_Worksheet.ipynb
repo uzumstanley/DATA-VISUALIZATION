{
 "cells": [
  {
   "cell_type": "markdown",
   "id": "47ce4544-f86f-4f5b-9013-5fa384eca883",
   "metadata": {},
   "source": [
    "# **Lab 3 Worksheet**"
   ]
  },
  {
   "cell_type": "markdown",
   "id": "95be5abd-7bfe-45c0-8275-63d1788321e9",
   "metadata": {},
   "source": [
    "### **Activity 1: Exploratory Analysis Using Visualisation**\n",
    "\n",
    "## Introduction\n",
    "A data scientist collects data from various wireless sensors located around a range of horticultural facilities (e.g., glasshouses) regularly. The project requires building, testing and validating models from the sensor data onto the measured output from those facilities. The model will be fine-tuned iteratively to offer better predictive/prescriptive capabilities for events, such as when crops will be ripe for picking or when infestation outbreaks may be expected. These capabilities will make the facilities more robust against adverse events and more productive, improving crop health and yield and reducing costs. The overall objective is to assist growers in their complex decision-making tasks to optimise their inputs and maximise outputs by controlling temperature, humidity, frost, light, nutrition, pesticides etc.\n",
    "\n",
    "The AgriSample dataset was collected from 3 devices in a strawberries greenhouse located in the south-east of England from 1 Sep. - 21 Dec. 2022. The relevant features for analytical tasks are as follows:\n",
    "\n",
    "[DeviceID]: 7-character identifier,\n",
    "\n",
    "[Timestamp]: ISO time format,\n",
    "\n",
    "[rawData]: hexadecimal format converted to binary for transmission over LPWAN,\n",
    "\n",
    "[airtemp]: air temperature,\n",
    "\n",
    "[airhumidity]: air humidity,\n",
    "\n",
    "[irtemp]: infrared temperature (the measure of leaf temperature),\n",
    "\n",
    "[dewpoint]: dew point, calculated from [airtemp] and [airhumidity].\n",
    "\n",
    "\n",
    "## **Task**:\n",
    "\n",
    "Using data visualisation tools and techniques, explore the dataset and write a summary of your findings (500 words) covering phases of your data analytics, observations and assumptions.\n"
   ]
  },
  {
   "cell_type": "code",
   "execution_count": null,
   "id": "abe71afe-8125-43e5-88f2-fb0e57e62042",
   "metadata": {},
   "outputs": [],
   "source": []
  }
 ],
 "metadata": {
  "kernelspec": {
   "display_name": "Python 3 (ipykernel)",
   "language": "python",
   "name": "python3"
  },
  "language_info": {
   "codemirror_mode": {
    "name": "ipython",
    "version": 3
   },
   "file_extension": ".py",
   "mimetype": "text/x-python",
   "name": "python",
   "nbconvert_exporter": "python",
   "pygments_lexer": "ipython3",
   "version": "3.8.18"
  }
 },
 "nbformat": 4,
 "nbformat_minor": 5
}
